{
 "cells": [
  {
   "cell_type": "code",
   "execution_count": 2,
   "metadata": {
    "collapsed": true
   },
   "outputs": [],
   "source": [
    "import pandas as pd"
   ]
  },
  {
   "cell_type": "code",
   "execution_count": 14,
   "metadata": {
    "collapsed": false,
    "scrolled": false
   },
   "outputs": [
    {
     "name": "stdout",
     "output_type": "stream",
     "text": [
      "   card_id  disp_id     type           issued\n",
      "0     1005     9285  classic  931107 00:00:00\n",
      "1      104      588  classic  940119 00:00:00\n",
      "2      747     4915  classic  940205 00:00:00\n",
      "3       70      439  classic  940208 00:00:00\n",
      "4      577     3687  classic  940215 00:00:00\n",
      "<class 'pandas.core.frame.DataFrame'>\n"
     ]
    }
   ],
   "source": [
    "card = pd.read_csv('C:/Users/Richard/Desktop/R/data/fraud/card.csv')\n",
    "print card.head() \n",
    "print type(card)"
   ]
  },
  {
   "cell_type": "code",
   "execution_count": 33,
   "metadata": {
    "collapsed": false
   },
   "outputs": [
    {
     "name": "stdout",
     "output_type": "stream",
     "text": [
      "     card_id  disposition_id     type      issued_date\n",
      "887      125             694     gold  981226 00:00:00\n",
      "888      674            4360  classic  981228 00:00:00\n",
      "889      322            2063  classic  981228 00:00:00\n",
      "890      685            4467  classic  981229 00:00:00\n",
      "891      635            4083  classic  981229 00:00:00\n"
     ]
    }
   ],
   "source": [
    "print card.tail()"
   ]
  },
  {
   "cell_type": "code",
   "execution_count": 19,
   "metadata": {
    "collapsed": true
   },
   "outputs": [],
   "source": [
    "## write a csv file\n",
    "card.to_csv('new_card.csv')"
   ]
  },
  {
   "cell_type": "code",
   "execution_count": 23,
   "metadata": {
    "collapsed": false,
    "scrolled": true
   },
   "outputs": [
    {
     "name": "stdout",
     "output_type": "stream",
     "text": [
      "           card_id       disp_id\n",
      "count   892.000000    892.000000\n",
      "mean    480.855381   3511.862108\n",
      "std     306.933982   2984.373626\n",
      "min       1.000000      9.000000\n",
      "25%     229.750000   1387.000000\n",
      "50%     456.500000   2938.500000\n",
      "75%     684.250000   4459.500000\n",
      "max    1247.000000  13660.000000\n",
      "(892, 4)\n"
     ]
    }
   ],
   "source": [
    "## summarize\n",
    "print card.describe()\n",
    "print card.shape"
   ]
  },
  {
   "cell_type": "code",
   "execution_count": 191,
   "metadata": {
    "collapsed": false,
    "scrolled": true
   },
   "outputs": [
    {
     "data": {
      "text/html": [
       "<div>\n",
       "<table border=\"1\" class=\"dataframe\">\n",
       "  <thead>\n",
       "    <tr style=\"text-align: right;\">\n",
       "      <th></th>\n",
       "      <th>card_id</th>\n",
       "      <th>disposition_id</th>\n",
       "      <th>type</th>\n",
       "      <th>issued_date</th>\n",
       "    </tr>\n",
       "  </thead>\n",
       "  <tbody>\n",
       "    <tr>\n",
       "      <th>0</th>\n",
       "      <td>1005</td>\n",
       "      <td>9285</td>\n",
       "      <td>classic</td>\n",
       "      <td>931107 00:00:00</td>\n",
       "    </tr>\n",
       "    <tr>\n",
       "      <th>1</th>\n",
       "      <td>104</td>\n",
       "      <td>588</td>\n",
       "      <td>classic</td>\n",
       "      <td>940119 00:00:00</td>\n",
       "    </tr>\n",
       "    <tr>\n",
       "      <th>2</th>\n",
       "      <td>747</td>\n",
       "      <td>4915</td>\n",
       "      <td>classic</td>\n",
       "      <td>940205 00:00:00</td>\n",
       "    </tr>\n",
       "    <tr>\n",
       "      <th>3</th>\n",
       "      <td>70</td>\n",
       "      <td>439</td>\n",
       "      <td>classic</td>\n",
       "      <td>940208 00:00:00</td>\n",
       "    </tr>\n",
       "    <tr>\n",
       "      <th>4</th>\n",
       "      <td>577</td>\n",
       "      <td>3687</td>\n",
       "      <td>classic</td>\n",
       "      <td>940215 00:00:00</td>\n",
       "    </tr>\n",
       "  </tbody>\n",
       "</table>\n",
       "</div>"
      ],
      "text/plain": [
       "   card_id  disposition_id     type      issued_date\n",
       "0     1005            9285  classic  931107 00:00:00\n",
       "1      104             588  classic  940119 00:00:00\n",
       "2      747            4915  classic  940205 00:00:00\n",
       "3       70             439  classic  940208 00:00:00\n",
       "4      577            3687  classic  940215 00:00:00"
      ]
     },
     "execution_count": 191,
     "metadata": {},
     "output_type": "execute_result"
    }
   ],
   "source": [
    "## change variable names\n",
    "card.columns = [\"card_id\",\"disposition_id\",\"type\",\"issued_date\"]\n",
    "# card.rename(columns=[\"card_id1\",\"disposition_id1\",\"type1\",\"issued_date1\"])\n",
    "card.head()"
   ]
  },
  {
   "cell_type": "code",
   "execution_count": 32,
   "metadata": {
    "collapsed": false,
    "scrolled": true
   },
   "outputs": [
    {
     "data": {
      "text/plain": [
       "(1784, 4)"
      ]
     },
     "execution_count": 32,
     "metadata": {},
     "output_type": "execute_result"
    }
   ],
   "source": [
    "a1 = card\n",
    "a2 = card\n",
    "c = a1.append(a2)\n",
    "c.shape"
   ]
  },
  {
   "cell_type": "code",
   "execution_count": 44,
   "metadata": {
    "collapsed": false,
    "scrolled": false
   },
   "outputs": [
    {
     "name": "stdout",
     "output_type": "stream",
     "text": [
      "      type      issued_date\n",
      "0  classic  931107 00:00:00\n",
      "1  classic  940119 00:00:00\n",
      "2  classic  940205 00:00:00\n",
      "3  classic  940208 00:00:00\n",
      "4  classic  940215 00:00:00\n",
      "<class 'pandas.core.frame.DataFrame'>\n"
     ]
    }
   ],
   "source": [
    "## select variables\n",
    "a = card[['type','issued_date']]\n",
    "print a.head()\n",
    "print type(a)"
   ]
  },
  {
   "cell_type": "code",
   "execution_count": 77,
   "metadata": {
    "collapsed": false,
    "scrolled": false
   },
   "outputs": [
    {
     "data": {
      "text/html": [
       "<div>\n",
       "<table border=\"1\" class=\"dataframe\">\n",
       "  <thead>\n",
       "    <tr style=\"text-align: right;\">\n",
       "      <th></th>\n",
       "      <th>card_id</th>\n",
       "      <th>disposition_id</th>\n",
       "      <th>type</th>\n",
       "      <th>issued_date</th>\n",
       "    </tr>\n",
       "  </thead>\n",
       "  <tbody>\n",
       "    <tr>\n",
       "      <th>64</th>\n",
       "      <td>3</td>\n",
       "      <td>41</td>\n",
       "      <td>gold</td>\n",
       "      <td>950903 00:00:00</td>\n",
       "    </tr>\n",
       "    <tr>\n",
       "      <th>777</th>\n",
       "      <td>1</td>\n",
       "      <td>9</td>\n",
       "      <td>gold</td>\n",
       "      <td>981016 00:00:00</td>\n",
       "    </tr>\n",
       "  </tbody>\n",
       "</table>\n",
       "</div>"
      ],
      "text/plain": [
       "     card_id  disposition_id  type      issued_date\n",
       "64         3              41  gold  950903 00:00:00\n",
       "777        1               9  gold  981016 00:00:00"
      ]
     },
     "execution_count": 77,
     "metadata": {},
     "output_type": "execute_result"
    }
   ],
   "source": [
    "## filter\n",
    "card[(card.card_id <10) & (card.type=='gold')]"
   ]
  },
  {
   "cell_type": "code",
   "execution_count": 80,
   "metadata": {
    "collapsed": false,
    "scrolled": true
   },
   "outputs": [
    {
     "data": {
      "text/html": [
       "<div>\n",
       "<table border=\"1\" class=\"dataframe\">\n",
       "  <thead>\n",
       "    <tr style=\"text-align: right;\">\n",
       "      <th></th>\n",
       "      <th>card_id</th>\n",
       "      <th>disposition_id</th>\n",
       "      <th>type</th>\n",
       "      <th>issued_date</th>\n",
       "    </tr>\n",
       "  </thead>\n",
       "  <tbody>\n",
       "    <tr>\n",
       "      <th>64</th>\n",
       "      <td>3</td>\n",
       "      <td>41</td>\n",
       "      <td>gold</td>\n",
       "      <td>950903 00:00:00</td>\n",
       "    </tr>\n",
       "    <tr>\n",
       "      <th>385</th>\n",
       "      <td>11</td>\n",
       "      <td>79</td>\n",
       "      <td>gold</td>\n",
       "      <td>971025 00:00:00</td>\n",
       "    </tr>\n",
       "    <tr>\n",
       "      <th>777</th>\n",
       "      <td>1</td>\n",
       "      <td>9</td>\n",
       "      <td>gold</td>\n",
       "      <td>981016 00:00:00</td>\n",
       "    </tr>\n",
       "  </tbody>\n",
       "</table>\n",
       "</div>"
      ],
      "text/plain": [
       "     card_id  disposition_id  type      issued_date\n",
       "64         3              41  gold  950903 00:00:00\n",
       "385       11              79  gold  971025 00:00:00\n",
       "777        1               9  gold  981016 00:00:00"
      ]
     },
     "execution_count": 80,
     "metadata": {},
     "output_type": "execute_result"
    }
   ],
   "source": [
    "card.query('card_id < 20 & type== \"gold\"')\n"
   ]
  },
  {
   "cell_type": "code",
   "execution_count": 94,
   "metadata": {
    "collapsed": false,
    "scrolled": false
   },
   "outputs": [
    {
     "name": "stdout",
     "output_type": "stream",
     "text": [
      "   disposition_id     type      issued_date\n",
      "0            9285  classic  931107 00:00:00\n",
      "1             588  classic  940119 00:00:00\n",
      "2            4915  classic  940205 00:00:00\n",
      "3             439  classic  940208 00:00:00\n",
      "4            3687  classic  940215 00:00:00\n"
     ]
    }
   ],
   "source": [
    "## drop a variable\n",
    "a = card.drop('card_id',axis=1)\n",
    "print a.head()"
   ]
  },
  {
   "cell_type": "code",
   "execution_count": 96,
   "metadata": {
    "collapsed": false,
    "scrolled": false
   },
   "outputs": [
    {
     "data": {
      "text/html": [
       "<div>\n",
       "<table border=\"1\" class=\"dataframe\">\n",
       "  <thead>\n",
       "    <tr style=\"text-align: right;\">\n",
       "      <th></th>\n",
       "      <th>card_id</th>\n",
       "      <th>disposition_id</th>\n",
       "      <th>type</th>\n",
       "      <th>issued_date</th>\n",
       "    </tr>\n",
       "  </thead>\n",
       "  <tbody>\n",
       "    <tr>\n",
       "      <th>579</th>\n",
       "      <td>1216</td>\n",
       "      <td>13097</td>\n",
       "      <td>classic</td>\n",
       "      <td>980526 00:00:00</td>\n",
       "    </tr>\n",
       "    <tr>\n",
       "      <th>240</th>\n",
       "      <td>513</td>\n",
       "      <td>3260</td>\n",
       "      <td>classic</td>\n",
       "      <td>970315 00:00:00</td>\n",
       "    </tr>\n",
       "    <tr>\n",
       "      <th>862</th>\n",
       "      <td>371</td>\n",
       "      <td>2388</td>\n",
       "      <td>gold</td>\n",
       "      <td>981213 00:00:00</td>\n",
       "    </tr>\n",
       "    <tr>\n",
       "      <th>761</th>\n",
       "      <td>245</td>\n",
       "      <td>1483</td>\n",
       "      <td>classic</td>\n",
       "      <td>981008 00:00:00</td>\n",
       "    </tr>\n",
       "    <tr>\n",
       "      <th>330</th>\n",
       "      <td>718</td>\n",
       "      <td>4660</td>\n",
       "      <td>classic</td>\n",
       "      <td>970812 00:00:00</td>\n",
       "    </tr>\n",
       "    <tr>\n",
       "      <th>154</th>\n",
       "      <td>12</td>\n",
       "      <td>83</td>\n",
       "      <td>junior</td>\n",
       "      <td>960911 00:00:00</td>\n",
       "    </tr>\n",
       "    <tr>\n",
       "      <th>666</th>\n",
       "      <td>508</td>\n",
       "      <td>3249</td>\n",
       "      <td>classic</td>\n",
       "      <td>980803 00:00:00</td>\n",
       "    </tr>\n",
       "    <tr>\n",
       "      <th>637</th>\n",
       "      <td>411</td>\n",
       "      <td>2572</td>\n",
       "      <td>classic</td>\n",
       "      <td>980715 00:00:00</td>\n",
       "    </tr>\n",
       "    <tr>\n",
       "      <th>336</th>\n",
       "      <td>502</td>\n",
       "      <td>3201</td>\n",
       "      <td>classic</td>\n",
       "      <td>970822 00:00:00</td>\n",
       "    </tr>\n",
       "    <tr>\n",
       "      <th>818</th>\n",
       "      <td>253</td>\n",
       "      <td>1536</td>\n",
       "      <td>gold</td>\n",
       "      <td>981114 00:00:00</td>\n",
       "    </tr>\n",
       "  </tbody>\n",
       "</table>\n",
       "</div>"
      ],
      "text/plain": [
       "     card_id  disposition_id     type      issued_date\n",
       "579     1216           13097  classic  980526 00:00:00\n",
       "240      513            3260  classic  970315 00:00:00\n",
       "862      371            2388     gold  981213 00:00:00\n",
       "761      245            1483  classic  981008 00:00:00\n",
       "330      718            4660  classic  970812 00:00:00\n",
       "154       12              83   junior  960911 00:00:00\n",
       "666      508            3249  classic  980803 00:00:00\n",
       "637      411            2572  classic  980715 00:00:00\n",
       "336      502            3201  classic  970822 00:00:00\n",
       "818      253            1536     gold  981114 00:00:00"
      ]
     },
     "execution_count": 96,
     "metadata": {},
     "output_type": "execute_result"
    }
   ],
   "source": [
    "card.sample(n=10)"
   ]
  },
  {
   "cell_type": "code",
   "execution_count": 105,
   "metadata": {
    "collapsed": false
   },
   "outputs": [
    {
     "name": "stdout",
     "output_type": "stream",
     "text": [
      "\n"
     ]
    }
   ],
   "source": [
    "# sorting\n",
    "card.sort_values(['card_id','disposition_id'])\n",
    "card.sort_values('card_id',ascending=False)\n",
    "print ''"
   ]
  },
  {
   "cell_type": "code",
   "execution_count": 106,
   "metadata": {
    "collapsed": false
   },
   "outputs": [
    {
     "data": {
      "text/html": [
       "<div>\n",
       "<table border=\"1\" class=\"dataframe\">\n",
       "  <thead>\n",
       "    <tr style=\"text-align: right;\">\n",
       "      <th></th>\n",
       "      <th>client_id</th>\n",
       "      <th>birth_number</th>\n",
       "      <th>district_id</th>\n",
       "    </tr>\n",
       "  </thead>\n",
       "  <tbody>\n",
       "    <tr>\n",
       "      <th>0</th>\n",
       "      <td>1</td>\n",
       "      <td>706213</td>\n",
       "      <td>18</td>\n",
       "    </tr>\n",
       "    <tr>\n",
       "      <th>1</th>\n",
       "      <td>2</td>\n",
       "      <td>450204</td>\n",
       "      <td>1</td>\n",
       "    </tr>\n",
       "    <tr>\n",
       "      <th>2</th>\n",
       "      <td>3</td>\n",
       "      <td>406009</td>\n",
       "      <td>1</td>\n",
       "    </tr>\n",
       "    <tr>\n",
       "      <th>3</th>\n",
       "      <td>4</td>\n",
       "      <td>561201</td>\n",
       "      <td>5</td>\n",
       "    </tr>\n",
       "    <tr>\n",
       "      <th>4</th>\n",
       "      <td>5</td>\n",
       "      <td>605703</td>\n",
       "      <td>5</td>\n",
       "    </tr>\n",
       "  </tbody>\n",
       "</table>\n",
       "</div>"
      ],
      "text/plain": [
       "   client_id  birth_number  district_id\n",
       "0          1        706213           18\n",
       "1          2        450204            1\n",
       "2          3        406009            1\n",
       "3          4        561201            5\n",
       "4          5        605703            5"
      ]
     },
     "execution_count": 106,
     "metadata": {},
     "output_type": "execute_result"
    }
   ],
   "source": []
  },
  {
   "cell_type": "code",
   "execution_count": 165,
   "metadata": {
    "collapsed": false,
    "scrolled": false
   },
   "outputs": [
    {
     "data": {
      "text/html": [
       "<div>\n",
       "<table border=\"1\" class=\"dataframe\">\n",
       "  <thead>\n",
       "    <tr style=\"text-align: right;\">\n",
       "      <th></th>\n",
       "      <th>client_id</th>\n",
       "      <th>birth_number</th>\n",
       "      <th>district_id</th>\n",
       "      <th>year</th>\n",
       "      <th>month</th>\n",
       "      <th>day</th>\n",
       "      <th>gender</th>\n",
       "    </tr>\n",
       "  </thead>\n",
       "  <tbody>\n",
       "    <tr>\n",
       "      <th>0</th>\n",
       "      <td>1</td>\n",
       "      <td>706213</td>\n",
       "      <td>18</td>\n",
       "      <td>1970</td>\n",
       "      <td>12</td>\n",
       "      <td>13</td>\n",
       "      <td>Female</td>\n",
       "    </tr>\n",
       "    <tr>\n",
       "      <th>1</th>\n",
       "      <td>2</td>\n",
       "      <td>450204</td>\n",
       "      <td>1</td>\n",
       "      <td>1945</td>\n",
       "      <td>2</td>\n",
       "      <td>4</td>\n",
       "      <td>Male</td>\n",
       "    </tr>\n",
       "    <tr>\n",
       "      <th>2</th>\n",
       "      <td>3</td>\n",
       "      <td>406009</td>\n",
       "      <td>1</td>\n",
       "      <td>1940</td>\n",
       "      <td>10</td>\n",
       "      <td>9</td>\n",
       "      <td>Female</td>\n",
       "    </tr>\n",
       "    <tr>\n",
       "      <th>3</th>\n",
       "      <td>4</td>\n",
       "      <td>561201</td>\n",
       "      <td>5</td>\n",
       "      <td>1956</td>\n",
       "      <td>12</td>\n",
       "      <td>1</td>\n",
       "      <td>Male</td>\n",
       "    </tr>\n",
       "    <tr>\n",
       "      <th>4</th>\n",
       "      <td>5</td>\n",
       "      <td>605703</td>\n",
       "      <td>5</td>\n",
       "      <td>1960</td>\n",
       "      <td>7</td>\n",
       "      <td>3</td>\n",
       "      <td>Female</td>\n",
       "    </tr>\n",
       "  </tbody>\n",
       "</table>\n",
       "</div>"
      ],
      "text/plain": [
       "   client_id  birth_number  district_id  year  month  day  gender\n",
       "0          1        706213           18  1970     12   13  Female\n",
       "1          2        450204            1  1945      2    4    Male\n",
       "2          3        406009            1  1940     10    9  Female\n",
       "3          4        561201            5  1956     12    1    Male\n",
       "4          5        605703            5  1960      7    3  Female"
      ]
     },
     "execution_count": 165,
     "metadata": {},
     "output_type": "execute_result"
    }
   ],
   "source": [
    "# mutation / transformation\n",
    "import numpy as np\n",
    "client = pd.read_csv('C:/Users/Richard/Desktop/R/data/fraud/client.csv')\n",
    "client['year'] = np.floor(client.birth_number/10000).astype(int)+1900\n",
    "client['month'] = np.floor(client.birth_number%10000/100).astype(int)\n",
    "client['day'] = np.floor(client.birth_number%100).astype(int)\n",
    "client['gender']=0\n",
    "client.set_value(client.month > 12,'gender','Female')\n",
    "client.set_value(client.month <= 12,'gender','Male')\n",
    "client.set_value(client.month > 12, 'month', client.month-50)\n",
    "client.head()"
   ]
  },
  {
   "cell_type": "code",
   "execution_count": 183,
   "metadata": {
    "collapsed": false,
    "scrolled": false
   },
   "outputs": [
    {
     "name": "stdout",
     "output_type": "stream",
     "text": [
      "type\n",
      "classic    659\n",
      "gold        88\n",
      "junior     145\n",
      "Name: count, dtype: int64\n",
      "            card_id               disposition_id               \n",
      "               mean     sum count           mean      sum count\n",
      "type                                                           \n",
      "classic  475.855842  313589   659    3468.884674  2285995   659\n",
      "gold     479.875000   42229    88    3563.193182   313561    88\n",
      "junior   504.172414   73105   145    3676.034483   533025   145\n"
     ]
    }
   ],
   "source": [
    "## group_by\n",
    "print card.groupby('type').size().rename('count')\n",
    "print card.groupby('type').agg(['mean','sum','count'])"
   ]
  },
  {
   "cell_type": "code",
   "execution_count": 245,
   "metadata": {
    "collapsed": false
   },
   "outputs": [
    {
     "data": {
      "text/plain": [
       "classic    659\n",
       "junior     145\n",
       "gold        88\n",
       "Name: type, dtype: int64"
      ]
     },
     "execution_count": 245,
     "metadata": {},
     "output_type": "execute_result"
    }
   ],
   "source": [
    "card['type'].value_counts()"
   ]
  },
  {
   "cell_type": "code",
   "execution_count": 229,
   "metadata": {
    "collapsed": false,
    "scrolled": false
   },
   "outputs": [
    {
     "name": "stdout",
     "output_type": "stream",
     "text": [
      "(4875, 16) \n",
      "\n",
      "   disp_id  client_id  account_id type_x  district_id         frequency  \\\n",
      "0        1          1           1  OWNER           18  POPLATEK MESICNE   \n",
      "1        2          2           2  OWNER            1  POPLATEK MESICNE   \n",
      "\n",
      "     date  birth_number  year  month  day  gender  card_id  disposition_id  \\\n",
      "0  950324        706213  1970     12   13  Female      NaN             NaN   \n",
      "1  930226        450204  1945      2    4    Male      NaN             NaN   \n",
      "\n",
      "  type_y issued_date  \n",
      "0    NaN         NaN  \n",
      "1    NaN         NaN  \n"
     ]
    }
   ],
   "source": [
    "## merge\n",
    "account = pd.read_csv('C:/Users/Richard/Desktop/R/data/fraud/account.csv')\n",
    "disposition = pd.read_csv('C:/Users/Richard/Desktop/R/data/fraud/disposition.csv')\n",
    "a = pd.merge(disposition, account, on=\"account_id\",how=\"inner\")\n",
    "b = pd.merge(a, client,on=[\"client_id\",\"district_id\"],how=\"inner\")\n",
    "df = pd.merge(b,card, left_on=\"disp_id\", right_on=\"disposition_id\",how=\"left\")\n",
    "print df.shape, '\\n'\n",
    "print df.head(2)"
   ]
  },
  {
   "cell_type": "code",
   "execution_count": 244,
   "metadata": {
    "collapsed": false
   },
   "outputs": [
    {
     "name": "stdout",
     "output_type": "stream",
     "text": [
      "[ 1  2  3  4  5  6  7  8  9 10 11 12 13 14 15 16 17 18 19 20 21 22 23 24 25\n",
      " 26 27 28 29 30 31]\n"
     ]
    }
   ],
   "source": [
    "# distinct -- unique\n",
    "a = df['day'].unique()\n",
    "print np.sort(a)\n"
   ]
  }
 ],
 "metadata": {
  "kernelspec": {
   "display_name": "Python 2",
   "language": "python",
   "name": "python2"
  },
  "language_info": {
   "codemirror_mode": {
    "name": "ipython",
    "version": 2
   },
   "file_extension": ".py",
   "mimetype": "text/x-python",
   "name": "python",
   "nbconvert_exporter": "python",
   "pygments_lexer": "ipython2",
   "version": "2.7.11"
  }
 },
 "nbformat": 4,
 "nbformat_minor": 0
}
